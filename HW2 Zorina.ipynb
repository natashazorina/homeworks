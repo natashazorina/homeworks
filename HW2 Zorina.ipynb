{
 "cells": [
  {
   "cell_type": "code",
   "execution_count": 40,
   "metadata": {},
   "outputs": [],
   "source": [
    "# Задача 1"
   ]
  },
  {
   "cell_type": "code",
   "execution_count": 46,
   "metadata": {},
   "outputs": [],
   "source": [
    "import requests\n",
    "response = requests.get('http://hpmor.ru/files/hpmor_ru.html')"
   ]
  },
  {
   "cell_type": "code",
   "execution_count": 47,
   "metadata": {},
   "outputs": [
    {
     "data": {
      "text/plain": [
       "True"
      ]
     },
     "execution_count": 47,
     "metadata": {},
     "output_type": "execute_result"
    }
   ],
   "source": [
    "# status_code равный 200, значит, что страница прочиталась хорошо\n",
    "response.status_code == 200"
   ]
  },
  {
   "cell_type": "code",
   "execution_count": 48,
   "metadata": {},
   "outputs": [],
   "source": [
    "response_test = response.text\n"
   ]
  },
  {
   "cell_type": "code",
   "execution_count": 49,
   "metadata": {},
   "outputs": [
    {
     "name": "stdout",
     "output_type": "stream",
     "text": [
      "ISO-8859-1\n"
     ]
    }
   ],
   "source": [
    "print(response.encoding)"
   ]
  },
  {
   "cell_type": "code",
   "execution_count": 50,
   "metadata": {},
   "outputs": [],
   "source": [
    "f = open('hp.txt', 'wb')"
   ]
  },
  {
   "cell_type": "code",
   "execution_count": 51,
   "metadata": {},
   "outputs": [
    {
     "data": {
      "text/plain": [
       "7646380"
      ]
     },
     "execution_count": 51,
     "metadata": {},
     "output_type": "execute_result"
    }
   ],
   "source": [
    "f.write(response_test.encode('ISO-8859-1'))"
   ]
  },
  {
   "cell_type": "code",
   "execution_count": 52,
   "metadata": {},
   "outputs": [],
   "source": [
    "# Задача 2"
   ]
  },
  {
   "cell_type": "code",
   "execution_count": 53,
   "metadata": {},
   "outputs": [],
   "source": [
    "with open ('hp.txt', 'r', encoding = 'utf-16') as f:\n",
    "    text = f.read()"
   ]
  },
  {
   "cell_type": "code",
   "execution_count": 54,
   "metadata": {},
   "outputs": [],
   "source": [
    "from collections import defaultdict, Counter"
   ]
  },
  {
   "cell_type": "code",
   "execution_count": 55,
   "metadata": {},
   "outputs": [],
   "source": [
    "long_tire_index = text.find('—')\n",
    "tire = text[long_tire_index]"
   ]
  },
  {
   "cell_type": "code",
   "execution_count": 56,
   "metadata": {},
   "outputs": [],
   "source": [
    "text1 = text.replace('p>',' ').replace('<',' ').replace('em>',' ').replace('.',' ').replace(',',' ').replace('\\\"',' ').replace('/',' ').replace('!', ' ').replace(':',' ').replace('* * *',' ').replace('?',' ').replace('\"',' ').replace('-',' ').replace(tire, ' ')"
   ]
  },
  {
   "cell_type": "code",
   "execution_count": 57,
   "metadata": {},
   "outputs": [],
   "source": [
    "for word in text1.split('\\n'): \n",
    "    if word.find('%') != -1:\n",
    "        del word"
   ]
  },
  {
   "cell_type": "code",
   "execution_count": 58,
   "metadata": {},
   "outputs": [
    {
     "name": "stdout",
     "output_type": "stream",
     "text": [
      "[('и', 13449), ('не', 12916), ('в', 10563), ('что', 10459), ('Гарри', 7931), ('на', 7046), ('с', 5021), ('я', 3937), ('то', 3880), ('он', 3738), ('это', 3689), ('его', 3469), ('как', 3131), ('бы', 2860), ('но', 2475), ('из', 2430), ('по', 2320), ('Я', 2211), ('к', 2153), ('если', 2096), ('было', 2069), ('ты', 2064), ('чтобы', 2022), ('за', 1993), ('она', 1880), ('всё', 1862), ('И', 1853), ('а', 1823), ('её', 1803), ('так', 1760), ('вы', 1746), ('у', 1692), ('от', 1673), ('сказал', 1617), ('Драко', 1613), ('профессор', 1597), ('же', 1593), ('Но', 1557), ('о', 1471), ('ещё', 1415), ('когда', 1380), ('был', 1309), ('они', 1276), ('Поттер', 1235), ('для', 1173), ('только', 1162), ('Квиррелл', 1162), ('В', 1161), ('мне', 1161), ('Гермиона', 1161), ('Он', 1147), ('даже', 1138), ('уже', 1121), ('просто', 1102), ('меня', 1101), ('их', 1066), ('или', 998), ('А', 967), ('кто', 943), ('Это', 902), ('ему', 892), ('будет', 891), ('чем', 880), ('может', 870), ('ли', 849), ('него', 840), ('Если', 824), ('этом', 811), ('лишь', 809), ('быть', 809), ('все', 803), ('ни', 780), ('до', 775), ('того', 761), ('есть', 758), ('который', 752), ('профессора', 750), ('Грейнджер', 748), ('нибудь', 736), ('тебя', 735), ('Дамблдор', 731), ('была', 727), ('этого', 722), ('себя', 719), ('голос', 703), ('время', 695), ('МакГонагалл', 689), ('Профессор', 688), ('мы', 683), ('мог', 681), ('Что', 676), ('раз', 673), ('Не', 667), ('которые', 667), ('очень', 666), ('Она', 662), ('мистер', 649), ('ничего', 635), ('тебе', 632), ('вас', 630)]\n"
     ]
    }
   ],
   "source": [
    "print(Counter(text1.split()).most_common(100))"
   ]
  },
  {
   "cell_type": "code",
   "execution_count": 59,
   "metadata": {},
   "outputs": [],
   "source": [
    "# Задача 3"
   ]
  },
  {
   "cell_type": "code",
   "execution_count": 60,
   "metadata": {},
   "outputs": [],
   "source": [
    "import requests\n",
    "response = requests.get('https://lenta.ru')"
   ]
  },
  {
   "cell_type": "code",
   "execution_count": 61,
   "metadata": {},
   "outputs": [
    {
     "data": {
      "text/plain": [
       "True"
      ]
     },
     "execution_count": 61,
     "metadata": {},
     "output_type": "execute_result"
    }
   ],
   "source": [
    "response.status_code == 200"
   ]
  },
  {
   "cell_type": "code",
   "execution_count": 62,
   "metadata": {},
   "outputs": [],
   "source": [
    "response_test = response.text"
   ]
  },
  {
   "cell_type": "code",
   "execution_count": 63,
   "metadata": {},
   "outputs": [],
   "source": [
    "list = response_test.split()"
   ]
  },
  {
   "cell_type": "code",
   "execution_count": 64,
   "metadata": {},
   "outputs": [],
   "source": [
    "i = 0\n",
    "for word in list:\n",
    "    if word.find('http') != -1 and word.find('.jpg') != -1:\n",
    "        url = word[5:len(word)-1]\n",
    "        response = requests.get(url)\n",
    "        with open('img' + str (i) +'.jpg', 'wb') as out_file:\n",
    "            out_file.write(response.content)\n",
    "        del response\n",
    "        int(i)\n",
    "        i += 1"
   ]
  },
  {
   "cell_type": "code",
   "execution_count": null,
   "metadata": {},
   "outputs": [],
   "source": []
  }
 ],
 "metadata": {
  "kernelspec": {
   "display_name": "Python 3",
   "language": "python",
   "name": "python3"
  },
  "language_info": {
   "codemirror_mode": {
    "name": "ipython",
    "version": 3
   },
   "file_extension": ".py",
   "mimetype": "text/x-python",
   "name": "python",
   "nbconvert_exporter": "python",
   "pygments_lexer": "ipython3",
   "version": "3.7.0"
  }
 },
 "nbformat": 4,
 "nbformat_minor": 2
}
